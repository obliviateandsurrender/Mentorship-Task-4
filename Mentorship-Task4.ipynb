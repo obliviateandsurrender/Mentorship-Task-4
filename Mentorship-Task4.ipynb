{
 "cells": [
  {
   "cell_type": "code",
   "execution_count": 1,
   "metadata": {},
   "outputs": [],
   "source": [
    "from pyquil import Program, get_qc\n",
    "import pyquil.api as api\n",
    "from pyquil.gates import *\n",
    "from pyquil.paulis import *\n",
    "from scipy.optimize import minimize\n",
    "from functools import partial "
   ]
  },
  {
   "cell_type": "markdown",
   "metadata": {},
   "source": [
    "### Useful Matrices\n",
    "\n",
    "$$ \\frac{I+Z}{2} = \\begin{bmatrix}\n",
    "1 & 0 \\\\\n",
    "0 & 0 \n",
    "\\end{bmatrix} \\hspace{20pt}  \n",
    "\\frac{I-Z}{2} = \\begin{bmatrix}\n",
    "0 & 0 \\\\\n",
    "0 & 1 \n",
    "\\end{bmatrix} \\hspace{20pt}  \n",
    "\\frac{X+\\iota Y}{2} = \\begin{bmatrix}\n",
    "0 & 1 \\\\\n",
    "0 & 0 \n",
    "\\end{bmatrix} \\hspace{20pt}  \n",
    "\\frac{I-\\iota Y}{2} = \\begin{bmatrix}\n",
    "0 & 0 \\\\\n",
    "1 & 0 \n",
    "\\end{bmatrix}$$"
   ]
  },
  {
   "cell_type": "markdown",
   "metadata": {},
   "source": [
    "### Given Hamiltonian\n",
    "$$H = \\begin{bmatrix}\n",
    "0 & 0 & 0 & 0 \\\\\n",
    "0 & -1 & 1 & 0 \\\\\n",
    "0 & 1 & -1 & 0 \\\\\n",
    "0 & 0 & 0 & 0\n",
    "\\end{bmatrix}$$"
   ]
  },
  {
   "cell_type": "markdown",
   "metadata": {},
   "source": [
    "### Decomposing H:"
   ]
  },
  {
   "cell_type": "markdown",
   "metadata": {},
   "source": [
    "$$H = \\begin{bmatrix}\n",
    "0 & 0 & 0 & 0 \\\\\n",
    "0 & -1 & 0 & 0 \\\\\n",
    "0 & 0 & 0 & 0 \\\\\n",
    "0 & 0 & 0 & 0\n",
    "\\end{bmatrix}+ \\begin{bmatrix}\n",
    "0 & 0 & 0 & 0 \\\\\n",
    "0 & 0 & 1 & 0 \\\\\n",
    "0 & 0 & 0 & 0 \\\\\n",
    "0 & 0 & 0 & 0\n",
    "\\end{bmatrix} + \\begin{bmatrix}\n",
    "0 & 0 & 0 & 0 \\\\\n",
    "0 & 0 & 0 & 0 \\\\\n",
    "0 & 1 & 0 & 0 \\\\\n",
    "0 & 0 & 0 & 0\n",
    "\\end{bmatrix}+ \\begin{bmatrix}\n",
    "0 & 0 & 0 & 0 \\\\\n",
    "0 & 0 & 0 & 0 \\\\\n",
    "0 & 0 & -1 & 0 \\\\\n",
    "0 & 0 & 0 & 0\n",
    "\\end{bmatrix}$$"
   ]
  },
  {
   "cell_type": "markdown",
   "metadata": {},
   "source": [
    " $$ H = \\bigg(\\frac{(I+Z)}{2}\\otimes\\frac{(Z-I)}{2}\\bigg) + \\bigg(\\frac{(Z-I)}{2}\\otimes\\frac{(I+Z)}{2}\\bigg) + \\bigg(\\frac{(X+\\iota Y)}{2}\\otimes\\frac{(X-\\iota Y)}{2}\\bigg) + \\bigg(\\frac{(X-\\iota Y)}{2}\\otimes\\frac{(X+\\iota Y)}{2}\\bigg)$$\n",
    "        $$ H = \\frac{XX+YY+ZZ-II}{2}$$"
   ]
  },
  {
   "cell_type": "code",
   "execution_count": 2,
   "metadata": {},
   "outputs": [],
   "source": [
    "def ansatz(params): # Returns a parameterized circuit\n",
    "    return Program(RX(params[0], 0), RX(params[1], 1), CNOT(0, 1), RZ(params[2], 0), RZ(params[3], 1))"
   ]
  },
  {
   "cell_type": "code",
   "execution_count": 3,
   "metadata": {},
   "outputs": [],
   "source": [
    "a = 0.5 * sX(0) * sX(1)\n",
    "b = 0.5 * sY(0) * sY(1)\n",
    "c = 0.5 * sZ(0) * sZ(1)\n",
    "d = -0.5 * ID() * ID()\n",
    "\n",
    "# Construct a sum of Pauli terms.\n",
    "Hamiltonian = a + b + c + d"
   ]
  },
  {
   "cell_type": "code",
   "execution_count": 4,
   "metadata": {},
   "outputs": [],
   "source": [
    "def expec_meas(prog, index_list, qc, shots):\n",
    "    # Doing full measurements on given qubits\n",
    "    program = Program()\n",
    "    program += prog\n",
    "    ro = program.declare('ro', 'BIT', max(index_list) + 1)\n",
    "    program += [MEASURE(qubit, r) for qubit, r in zip(list(range(max(index_list) + 1)), ro)]\n",
    "    program.wrap_in_numshots_loop(shots)\n",
    "    executable = qc.compile(program)\n",
    "    results = qc.run(executable)\n",
    "    \n",
    "    # Create a frequency dictionary \n",
    "    freq = {}\n",
    "    result = list(map(tuple, results))\n",
    "    for items in result:\n",
    "        freq[items] = result.count(items)\n",
    "\n",
    "    # Find parity for each possible outcome \n",
    "    # Eg => Z = P(0) - P(1)\n",
    "    # Eg => ZZ = P(00) + P(11) - P(01) - P(10)\n",
    "    mask = 0\n",
    "    for qb in index_list:\n",
    "        mask |= 1 << qb\n",
    "    parity = {state:1 if bin(mask & state).count(\"1\") % 2 == 0 else -1 for state in \n",
    "              [int(\"\".join([str(x) for x in y[::-1]]), 2) for y in freq.keys()]}\n",
    "    \n",
    "    exp_res = 0\n",
    "    for bit, count in freq.items():\n",
    "        bit_int = int(\"\".join([str(x) for x in bit[::-1]]), 2)\n",
    "        exp_res += float(count) * parity[bit_int] \n",
    "    \n",
    "    exp_res /= shots # To calculate mean i.e. probability\n",
    "    return exp_res"
   ]
  },
  {
   "cell_type": "code",
   "execution_count": 7,
   "metadata": {},
   "outputs": [],
   "source": [
    "def cost(angles, hamil, qc, shots):\n",
    "    prog = ansatz(angles) # Building the Ansatz\n",
    "    ham_expec = 0\n",
    "    term_expec = np.zeros(len(Hamiltonian))  # Stores expectation of each pauli terms\n",
    "    for ind, term in enumerate(hamil):\n",
    "        meas_basis = Program()\n",
    "        qubits_measure_idx = []\n",
    "        if is_identity(term):\n",
    "            term_expec[ind] = term.coefficient.real #Expectation for the ID term\n",
    "        else:\n",
    "            for idx, gate in term.operations_as_set(): # Makes circuit for measurement\n",
    "                qubits_measure_idx.append(idx)\n",
    "                if gate == 'X': #X basis measurement\n",
    "                    meas_basis.inst(RY(-0.5 * np.pi, idx))\n",
    "                elif gate == 'Y': #Y basis measurement\n",
    "                    meas_basis.inst(RX(0.5 * np.pi, idx))\n",
    "            qubits_measure_idx.sort()\n",
    "            expec_res = expec_meas(prog+meas_basis, qubits_measure_idx, qc, shots)\n",
    "            term_expec[ind] = term.coefficient.real * expec_res\n",
    "    print(np.sum(term_expec))\n",
    "    return np.sum(term_expec) "
   ]
  },
  {
   "cell_type": "code",
   "execution_count": 13,
   "metadata": {
    "scrolled": true
   },
   "outputs": [
    {
     "name": "stdout",
     "output_type": "stream",
     "text": [
      "0.0107421875\n",
      "-0.00390625\n",
      "-0.275390625\n",
      "-0.0634765625\n",
      "-0.3916015625\n",
      "-1.12890625\n",
      "-1.259765625\n",
      "-1.595703125\n",
      "-0.5595703125\n",
      "-1.19140625\n",
      "-1.8466796875\n",
      "-1.59375\n",
      "-1.6689453125\n",
      "-1.787109375\n",
      "-1.6494140625\n",
      "-1.8232421875\n",
      "-1.9423828125\n",
      "-1.9873046875\n",
      "-1.9228515625\n",
      "-1.96875\n",
      "-1.923828125\n",
      "-1.9951171875\n",
      "-2.0\n",
      "-1.9970703125\n",
      "-1.990234375\n",
      "-1.9990234375\n",
      "-1.9921875\n",
      "-1.9990234375\n",
      "-1.9970703125\n",
      "-1.9990234375\n",
      "-1.9990234375\n",
      "-1.998046875\n",
      "-2.0\n",
      "-2.0\n",
      "-1.9970703125\n",
      "-2.0\n",
      "-1.998046875\n",
      "-1.9990234375\n",
      "-2.0\n",
      "-2.0\n",
      "-1.998046875\n",
      "-1.9990234375\n",
      "-1.9970703125\n",
      "-2.0\n",
      "-1.998046875\n",
      "-1.9990234375\n",
      "-1.9990234375\n",
      "-2.0\n",
      "-1.9990234375\n",
      "-1.9990234375\n",
      "-2.0\n",
      "-2.0\n",
      "     fun: -2.0\n",
      "   maxcv: 0.0\n",
      " message: 'Optimization terminated successfully.'\n",
      "    nfev: 52\n",
      "  status: 1\n",
      " success: True\n",
      "       x: array([ 1.60298664,  3.13586389, -0.48670763,  1.10937732])\n"
     ]
    }
   ],
   "source": [
    "qc = get_qc(\"2q-qvm\")\n",
    "x0 = np.array([0,0,0,0])\n",
    "vqe = partial(cost, hamil=Hamiltonian, qc=qc, shots=1024) \n",
    "fun = minimize(vqe, x0, method='COBYLA') # This is the hybrid part\n",
    "print(fun)"
   ]
  },
  {
   "cell_type": "code",
   "execution_count": 22,
   "metadata": {},
   "outputs": [
    {
     "data": {
      "text/plain": [
       "array([ 1.60298664,  3.13586389, -0.48670763,  1.10937732])"
      ]
     },
     "execution_count": 22,
     "metadata": {},
     "output_type": "execute_result"
    }
   ],
   "source": [
    "fun['x'] # Optimized angles"
   ]
  },
  {
   "cell_type": "code",
   "execution_count": 34,
   "metadata": {},
   "outputs": [
    {
     "data": {
      "text/plain": [
       "-2.0"
      ]
     },
     "execution_count": 34,
     "metadata": {},
     "output_type": "execute_result"
    }
   ],
   "source": [
    "fun['fun'] # Final value i.e. our lowest eigenvalue"
   ]
  },
  {
   "cell_type": "code",
   "execution_count": 14,
   "metadata": {},
   "outputs": [
    {
     "name": "stdout",
     "output_type": "stream",
     "text": [
      "(0.0018967678-0.0006103798j)|00> + (-0.5015168858+0.5143626704j)|01> + (0.4980660633-0.4856272732j)|10> + (0.0006303513-0.0019588296j)|11>\n"
     ]
    }
   ],
   "source": [
    "from pyquil.api import WavefunctionSimulator # For cross checking purposes\n",
    "wf_sim = WavefunctionSimulator()\n",
    "p = ansatz(fun['x'])\n",
    "wf = wf_sim.wavefunction(p)\n",
    "print(wf)"
   ]
  },
  {
   "cell_type": "code",
   "execution_count": 27,
   "metadata": {},
   "outputs": [
    {
     "data": {
      "text/plain": [
       "array([ 0.00189677-0.00061038j, -0.50151689+0.51436267j,\n",
       "        0.49806606-0.48562727j,  0.00063035-0.00195883j])"
      ]
     },
     "execution_count": 27,
     "metadata": {},
     "output_type": "execute_result"
    }
   ],
   "source": [
    "wf.amplitudes "
   ]
  },
  {
   "cell_type": "code",
   "execution_count": 17,
   "metadata": {},
   "outputs": [],
   "source": [
    "Ham_mat = np.array([[0,0,0,0],[0,-1,1,0],[0,1,-1,0],[0,0,0,0]])"
   ]
  },
  {
   "cell_type": "code",
   "execution_count": 20,
   "metadata": {
    "scrolled": false
   },
   "outputs": [
    {
     "data": {
      "text/plain": [
       "array([ 0.        +0.j        ,  0.99958295-0.99998994j,\n",
       "       -0.99958295+0.99998994j,  0.        +0.j        ])"
      ]
     },
     "execution_count": 20,
     "metadata": {},
     "output_type": "execute_result"
    }
   ],
   "source": [
    "np.matmul(Ham_mat,wf.amplitudes)"
   ]
  },
  {
   "cell_type": "markdown",
   "metadata": {},
   "source": [
    "### Final Check\n",
    "Calculating the following:\n",
    "\n",
    "$$\\begin{bmatrix}\n",
    "0 & 0 & 0 & 0 \\\\\n",
    "0 & -1 & 1 & 0 \\\\\n",
    "0 & 1 & -1 & 0 \\\\\n",
    "0 & 0 & 0 & 0\n",
    "\\end{bmatrix} \\times \\begin{bmatrix}\n",
    "0.00189677 - 0.00061038\\iota \\\\\n",
    "-0.50151689+0.51436267\\iota \\\\,\n",
    "0.49806606-0.48562727\\iota \\\\, \n",
    "0.00063035-0.00195883\\iota\n",
    "\\end{bmatrix} + 2  \\times \\begin{bmatrix}\n",
    "0.00189677 - 0.00061038\\iota \\\\\n",
    "-0.50151689+0.51436267\\iota \\\\,\n",
    "0.49806606-0.48562727\\iota \\\\, \n",
    "0.00063035-0.00195883\\iota\n",
    "\\end{bmatrix}$$\n"
   ]
  },
  {
   "cell_type": "code",
   "execution_count": 32,
   "metadata": {},
   "outputs": [
    {
     "data": {
      "text/plain": [
       "array([0.00398512, 0.02894186, 0.02894186, 0.00411551])"
      ]
     },
     "execution_count": 32,
     "metadata": {},
     "output_type": "execute_result"
    }
   ],
   "source": [
    "np.abs(np.matmul(Ham_mat,wf.amplitudes) - fun['fun']*wf.amplitudes) # Characterstic equations"
   ]
  }
 ],
 "metadata": {
  "kernelspec": {
   "display_name": "Python 3",
   "language": "python",
   "name": "python3"
  },
  "language_info": {
   "codemirror_mode": {
    "name": "ipython",
    "version": 3
   },
   "file_extension": ".py",
   "mimetype": "text/x-python",
   "name": "python",
   "nbconvert_exporter": "python",
   "pygments_lexer": "ipython3",
   "version": "3.6.8"
  }
 },
 "nbformat": 4,
 "nbformat_minor": 2
}
